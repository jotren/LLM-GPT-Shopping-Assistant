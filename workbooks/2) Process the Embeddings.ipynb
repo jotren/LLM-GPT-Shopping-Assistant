{
 "cells": [
  {
   "cell_type": "markdown",
   "id": "38c7ab25-2758-4fa2-a3af-7ae88e6ced5f",
   "metadata": {},
   "source": [
    "# Process the Embedings"
   ]
  },
  {
   "cell_type": "code",
   "execution_count": 3,
   "id": "f372addb-b639-4210-8171-81f40879106f",
   "metadata": {},
   "outputs": [],
   "source": [
    "import numpy as np\n",
    "import hnswlib\n",
    "import os\n",
    "\n",
    "# Paths\n",
    "embeddings_file = os.path.join(\"..\", \"data\", \"processed\", \"embeddings.npy\")\n",
    "image_ids_file = os.path.join(\"..\", \"data\", \"processed\", \"image_ids.npy\")\n",
    "hnsw_index_path = os.path.join(\"..\", \"data\", \"processed\", \"hnsw_index.bin\")\n",
    "\n",
    "# Load Embeddings and Image IDs\n",
    "embeddings = np.load(embeddings_file)\n",
    "image_ids = np.load(image_ids_file)\n",
    "\n",
    "# Define the Dimension of the Embeddings\n",
    "d = 512  # Embedding dimension for CLIP ViT-B/32\n",
    "\n",
    "# Create HNSWlib Index\n",
    "num_elements = embeddings.shape[0]\n",
    "hnsw_index = hnswlib.Index(space='l2', dim=d)  # 'l2' is for Euclidean distance\n",
    "\n",
    "# Initialize the index\n",
    "hnsw_index.init_index(max_elements=num_elements, ef_construction=200, M=16)\n",
    "\n",
    "# Add items to the index\n",
    "hnsw_index.add_items(embeddings)\n",
    "\n",
    "# Save the index\n",
    "hnsw_index.save_index(hnsw_index_path)\n",
    "\n",
    "# Save the Mapping of Image IDs to a File\n",
    "np.save(image_ids_file, image_ids)\n",
    "\n"
   ]
  },
  {
   "cell_type": "code",
   "execution_count": null,
   "id": "81fa3144-9726-4b86-995c-a34e974dea51",
   "metadata": {},
   "outputs": [],
   "source": []
  }
 ],
 "metadata": {
  "kernelspec": {
   "display_name": "Python (LLM)",
   "language": "python",
   "name": "llm"
  },
  "language_info": {
   "codemirror_mode": {
    "name": "ipython",
    "version": 3
   },
   "file_extension": ".py",
   "mimetype": "text/x-python",
   "name": "python",
   "nbconvert_exporter": "python",
   "pygments_lexer": "ipython3",
   "version": "3.10.14"
  }
 },
 "nbformat": 4,
 "nbformat_minor": 5
}
